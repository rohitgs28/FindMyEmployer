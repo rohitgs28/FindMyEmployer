{
 "cells": [
  {
   "cell_type": "code",
   "execution_count": 2,
   "metadata": {
    "collapsed": true
   },
   "outputs": [],
   "source": [
    "import pandas as pd\n",
    "import numpy as np\n",
    "from sklearn.feature_selection import chi2,f_classif\n",
    "import re\n",
    "from sklearn.svm import SVC\n",
    "from sklearn.ensemble import RandomForestClassifier"
   ]
  },
  {
   "cell_type": "heading",
   "metadata": {},
   "level": 1,
   "source": [
    "Data fetching"
   ]
  },
  {
   "cell_type": "code",
   "execution_count": 2,
   "metadata": {},
   "outputs": [],
   "source": [
    "# players = pd.read_csv(r\"Datasets\\world_cup\\WorldCupPlayers.csv\")\n",
    "matches = pd.read_csv(r\"Datasets\\world_cup\\WorldCupMatches.csv\")\n",
    "all_players = pd.read_csv(r\"Datasets\\world_cup\\all_players.csv\") \n",
    "squad = pd.read_csv(r\"Datasets\\world_cup\\2018_squad.csv\")\n"
   ]
  },
  {
   "cell_type": "code",
   "execution_count": 3,
   "metadata": {},
   "outputs": [],
   "source": [
    "matches.drop_duplicates(inplace=True)\n",
    "matches.Year.value_counts(sort=False)\n",
    "matches.Attendance.fillna( np.max(matches[(matches.Year == 2014) & (matches.Stadium == 'Estadio Beira-Rio')].dropna().Attendance), inplace=True )"
   ]
  },
  {
   "cell_type": "code",
   "execution_count": 121,
   "metadata": {},
   "outputs": [
    {
     "data": {
      "text/plain": [
       "Index(['Team', 'Group', 'Squad Number', 'Position', 'Player', 'Date Of Birth',\n       'Age', 'Caps', 'Goals', 'Club', 'Player Count'],\n      dtype='object')"
      ]
     },
     "execution_count": 121,
     "metadata": {},
     "output_type": "execute_result"
    }
   ],
   "source": [
    "squad.columns"
   ]
  },
  {
   "cell_type": "code",
   "execution_count": null,
   "metadata": {
    "collapsed": true
   },
   "outputs": [
    {
     "data": {
      "text/plain": [
       "Index(['Year', 'Datetime', 'Stage', 'Stadium', 'City', 'Home Team Name',\n       'Home Team Goals', 'Away Team Goals', 'Away Team Name',\n       'Win conditions', 'Attendance', 'Half-time Home Goals',\n       'Half-time Away Goals', 'Referee', 'Assistant 1', 'Assistant 2',\n       'RoundID', 'MatchID', 'Home Team Initials', 'Away Team Initials'],\n      dtype='object')"
      ]
     },
     "execution_count": 14,
     "metadata": {},
     "output_type": "execute_result"
    }
   ],
   "source": [
    ""
   ]
  },
  {
   "cell_type": "code",
   "execution_count": 4,
   "metadata": {},
   "outputs": [],
   "source": [
    "def wdl(x):\n",
    "    if x['Home Team Goals'] > x['Away Team Goals']:\n",
    "        return \"Win\"\n",
    "    elif x['Home Team Goals']< x['Away Team Goals']:\n",
    "        return \"Loss\"\n",
    "    elif x['Home Team Goals'] == x['Away Team Goals']:\n",
    "        return \"Draw\"\n",
    "matches[\"Result\"] = matches.apply(wdl,axis=1)"
   ]
  },
  {
   "cell_type": "markdown",
   "metadata": {},
   "source": [
    "Based on the values found below , we can say that a team has never lost after scoring three goals and have always won a mathch when they score 4+ goals. Out of 59 cases there are 2 cases when a team has drawn after scoring 4 goals. \n",
    "A team cant win if they havent scored any goal. therefore to take number of goals as a feature we are choosing 1,2,3 number of goals as a feature to predict team win or loss or draw.\n"
   ]
  },
  {
   "cell_type": "code",
   "execution_count": 5,
   "metadata": {},
   "outputs": [],
   "source": [
    "matches[matches[\"Result\"]==\"Win\"]['Home Team Goals'].value_counts(sort=False)\n",
    "matches[matches[\"Result\"]==\"Draw\"]['Home Team Goals'].value_counts(sort=False)\n",
    "matches[matches[\"Result\"]==\"Loss\"]['Home Team Goals'].value_counts(sort=False)\n",
    "matches['Home Team Goals'].value_counts(sort=False)\n",
    "\n",
    "matches[\"Goal_1\"]=matches['Home Team Goals'].apply(lambda x: 1 if x == 1 else 0)\n",
    "matches[\"Goal_2\"]=matches['Home Team Goals'].apply(lambda x: 1 if x == 2 else 1)\n",
    "matches[\"Goal_3\"]=matches['Home Team Goals'].apply(lambda x: 1 if x == 3 else 1)\n"
   ]
  },
  {
   "cell_type": "code",
   "execution_count": 223,
   "metadata": {
    "collapsed": false
   },
   "outputs": [],
   "source": [
    "matches[\"ml\"]"
   ]
  },
  {
   "cell_type": "code",
   "execution_count": 58,
   "metadata": {
    "collapsed": false
   },
   "outputs": [
    {
     "data": {
      "text/plain": [
       "Index(['Year', 'Datetime', 'Stage', 'Stadium', 'City', 'Home Team Name',\n       'Home Team Goals', 'Away Team Goals', 'Away Team Name',\n       'Win conditions', 'Attendance', 'Half-time Home Goals',\n       'Half-time Away Goals', 'Referee', 'Assistant 1', 'Assistant 2',\n       'RoundID', 'MatchID', 'Home Team Initials', 'Away Team Initials',\n       'Result', 'Goal_1', 'Goal_2', 'Goal_3'],\n      dtype='object')"
      ]
     },
     "execution_count": 58,
     "metadata": {},
     "output_type": "execute_result"
    }
   ],
   "source": [
    ""
   ]
  },
  {
   "cell_type": "code",
   "execution_count": 45,
   "metadata": {
    "collapsed": false
   },
   "outputs": [
    {
     "name": "stderr",
     "output_type": "stream",
     "text": [
      "C:\\Users\\tgup1\\AppData\\Local\\Programs\\Python\\Python36\\lib\\site-packages\\sklearn\\utils\\validation.py:578: DataConversionWarning: A column-vector y was passed when a 1d array was expected. Please change the shape of y to (n_samples, ), for example using ravel().\n  y = column_or_1d(y, warn=True)\n"
     ]
    },
    {
     "data": {
      "text/plain": [
       "(array([255.1463813]), array([3.67753661e-87]))"
      ]
     },
     "execution_count": 45,
     "metadata": {},
     "output_type": "execute_result"
    }
   ],
   "source": [
    ""
   ]
  },
  {
   "cell_type": "heading",
   "metadata": {
    "collapsed": false
   },
   "level": 1,
   "source": [
    "\n",
    "ML : Win Prediction"
   ]
  },
  {
   "cell_type": "code",
   "execution_count": 6,
   "metadata": {},
   "outputs": [
    {
     "data": {
      "text/plain": [
       "Index(['Year', 'Datetime', 'Stage', 'Stadium', 'City', 'Home Team Name',\n       'Home Team Goals', 'Away Team Goals', 'Away Team Name',\n       'Win conditions', 'Attendance', 'Half-time Home Goals',\n       'Half-time Away Goals', 'Referee', 'Assistant 1', 'Assistant 2',\n       'RoundID', 'MatchID', 'Home Team Initials', 'Away Team Initials',\n       'Result', 'Goal_1', 'Goal_2', 'Goal_3'],\n      dtype='object')"
      ]
     },
     "execution_count": 6,
     "metadata": {},
     "output_type": "execute_result"
    }
   ],
   "source": [
    "matches.columns"
   ]
  },
  {
   "cell_type": "code",
   "execution_count": null,
   "metadata": {
    "collapsed": false
   },
   "outputs": [
    {
     "data": {
      "text/plain": [
       "Index(['Year', 'Datetime', 'Stage', 'Stadium', 'City', 'Home Team Name',\n       'Home Team Goals', 'Away Team Goals', 'Away Team Name',\n       'Win conditions', 'Attendance', 'Half-time Home Goals',\n       'Half-time Away Goals', 'Referee', 'Assistant 1', 'Assistant 2',\n       'RoundID', 'MatchID', 'Home Team Initials', 'Away Team Initials',\n       'Result', 'Goal_1', 'Goal_2', 'Goal_3'],\n      dtype='object')"
      ]
     },
     "execution_count": 55,
     "metadata": {},
     "output_type": "execute_result"
    }
   ],
   "source": [
    "# X = np.array(matches['Home Team Goals']).reshape(-1,1)\n",
    "# y = np.array(matches['Result']).reshape(-1,1)\n",
    "# # # chi2(X,y)\n",
    "# # f_classif(X,y)\n",
    "from sklearn.preprocessing import MultiLabelBinarizer\n"
   ]
  },
  {
   "cell_type": "code",
   "execution_count": 55,
   "metadata": {
    "collapsed": false
   },
   "outputs": [
    {
     "data": {
      "text/plain": [
       "Index(['Year', 'Datetime', 'Stage', 'Stadium', 'City', 'Home Team Name',\n       'Home Team Goals', 'Away Team Goals', 'Away Team Name',\n       'Win conditions', 'Attendance', 'Half-time Home Goals',\n       'Half-time Away Goals', 'Referee', 'Assistant 1', 'Assistant 2',\n       'RoundID', 'MatchID', 'Home Team Initials', 'Away Team Initials',\n       'Result', 'Goal_1', 'Goal_2', 'Goal_3'],\n      dtype='object')"
      ]
     },
     "execution_count": 55,
     "metadata": {},
     "output_type": "execute_result"
    }
   ],
   "source": [
    "matches.columns\n"
   ]
  },
  {
   "cell_type": "heading",
   "metadata": {
    "collapsed": false
   },
   "level": 1,
   "source": [
    "\n",
    "ML : Win Prediction"
   ]
  },
  {
   "cell_type": "code",
   "execution_count": 71,
   "metadata": {
    "collapsed": true
   },
   "outputs": [
    {
     "data": {
      "text/plain": [
       "array([[0, 0, 1],\n       [1, 0, 0],\n       [0, 0, 1],\n       [1, 0, 0],\n       [0, 0, 1],\n       [1, 0, 0],\n       [1, 0, 0],\n       [0, 0, 1],\n       [0, 0, 1],\n       [0, 0, 1],\n       [0, 0, 1],\n       [0, 0, 1],\n       [0, 0, 1],\n       [0, 0, 1],\n       [0, 0, 1],\n       [0, 0, 1],\n       [0, 0, 1],\n       [1, 0, 0],\n       [0, 0, 1],\n       [0, 0, 1],\n       [1, 0, 0],\n       [1, 0, 0],\n       [0, 0, 1],\n       [0, 0, 1],\n       [0, 0, 1],\n       [0, 0, 1],\n       [1, 0, 0],\n       [0, 1, 0],\n       [0, 0, 1],\n       [0, 0, 1],\n       [0, 0, 1],\n       [1, 0, 0],\n       [1, 0, 0],\n       [1, 0, 0],\n       [0, 1, 0]])"
      ]
     },
     "execution_count": 72,
     "metadata": {},
     "output_type": "execute_result"
    }
   ],
   "source": [
    "X=matches[matches[\"Home Team Name\"]==\"England\"][[\"Home Team Goals\",\"Attendance\",\"Half-time Home Goals\",\"Half-time Away Goals\"]]\n",
    "y = matches[matches[\"Home Team Name\"]==\"England\"][\"Result\"]\n"
   ]
  },
  {
   "cell_type": "code",
   "execution_count": 72,
   "metadata": {
    "collapsed": true
   },
   "outputs": [
    {
     "data": {
      "text/plain": [
       "array([[0, 0, 1],\n       [1, 0, 0],\n       [0, 0, 1],\n       [1, 0, 0],\n       [0, 0, 1],\n       [1, 0, 0],\n       [1, 0, 0],\n       [0, 0, 1],\n       [0, 0, 1],\n       [0, 0, 1],\n       [0, 0, 1],\n       [0, 0, 1],\n       [0, 0, 1],\n       [0, 0, 1],\n       [0, 0, 1],\n       [0, 0, 1],\n       [0, 0, 1],\n       [1, 0, 0],\n       [0, 0, 1],\n       [0, 0, 1],\n       [1, 0, 0],\n       [1, 0, 0],\n       [0, 0, 1],\n       [0, 0, 1],\n       [0, 0, 1],\n       [0, 0, 1],\n       [1, 0, 0],\n       [0, 1, 0],\n       [0, 0, 1],\n       [0, 0, 1],\n       [0, 0, 1],\n       [1, 0, 0],\n       [1, 0, 0],\n       [1, 0, 0],\n       [0, 1, 0]])"
      ]
     },
     "execution_count": 72,
     "metadata": {},
     "output_type": "execute_result"
    }
   ],
   "source": [
    "y = [[x] for x in y]\n",
    "binarizer = MultiLabelBinarizer()\n",
    "y = binarizer.fit_transform(y)\n",
    "binarizer.classes_\n"
   ]
  },
  {
   "cell_type": "code",
   "execution_count": 91,
   "metadata": {
    "collapsed": true
   },
   "outputs": [
    {
     "ename": "ValueError",
     "evalue": "bad input shape (35, 3)",
     "traceback": [
      "\u001b[0;31m---------------------------------------------------------------------------\u001b[0m",
      "\u001b[0;31mValueError\u001b[0m                                Traceback (most recent call last)",
      "\u001b[0;32m<ipython-input-91-2bd5aca23414>\u001b[0m in \u001b[0;36m<module>\u001b[0;34m()\u001b[0m\n\u001b[1;32m      1\u001b[0m \u001b[0mmodel\u001b[0m \u001b[0;34m=\u001b[0m \u001b[0mSVC\u001b[0m\u001b[0;34m(\u001b[0m\u001b[0;34m)\u001b[0m\u001b[0;34m\u001b[0m\u001b[0m\n\u001b[0;32m----> 2\u001b[0;31m \u001b[0mmodel\u001b[0m\u001b[0;34m.\u001b[0m\u001b[0mfit\u001b[0m\u001b[0;34m(\u001b[0m\u001b[0mX\u001b[0m\u001b[0;34m,\u001b[0m\u001b[0my\u001b[0m\u001b[0;34m)\u001b[0m\u001b[0;34m\u001b[0m\u001b[0m\n\u001b[0m\u001b[1;32m      3\u001b[0m \u001b[0mmodel\u001b[0m\u001b[0;34m.\u001b[0m\u001b[0mscore\u001b[0m\u001b[0;34m(\u001b[0m\u001b[0mX\u001b[0m\u001b[0;34m,\u001b[0m\u001b[0my\u001b[0m\u001b[0;34m)\u001b[0m\u001b[0;34m\u001b[0m\u001b[0m\n",
      "\u001b[0;32mC:\\Users\\tgup1\\AppData\\Local\\Programs\\Python\\Python36\\lib\\site-packages\\sklearn\\svm\\base.py\u001b[0m in \u001b[0;36mfit\u001b[0;34m(self, X, y, sample_weight)\u001b[0m\n\u001b[1;32m    147\u001b[0m         \u001b[0mself\u001b[0m\u001b[0;34m.\u001b[0m\u001b[0m_sparse\u001b[0m \u001b[0;34m=\u001b[0m \u001b[0msparse\u001b[0m \u001b[0;32mand\u001b[0m \u001b[0;32mnot\u001b[0m \u001b[0mcallable\u001b[0m\u001b[0;34m(\u001b[0m\u001b[0mself\u001b[0m\u001b[0;34m.\u001b[0m\u001b[0mkernel\u001b[0m\u001b[0;34m)\u001b[0m\u001b[0;34m\u001b[0m\u001b[0m\n\u001b[1;32m    148\u001b[0m \u001b[0;34m\u001b[0m\u001b[0m\n\u001b[0;32m--> 149\u001b[0;31m         \u001b[0mX\u001b[0m\u001b[0;34m,\u001b[0m \u001b[0my\u001b[0m \u001b[0;34m=\u001b[0m \u001b[0mcheck_X_y\u001b[0m\u001b[0;34m(\u001b[0m\u001b[0mX\u001b[0m\u001b[0;34m,\u001b[0m \u001b[0my\u001b[0m\u001b[0;34m,\u001b[0m \u001b[0mdtype\u001b[0m\u001b[0;34m=\u001b[0m\u001b[0mnp\u001b[0m\u001b[0;34m.\u001b[0m\u001b[0mfloat64\u001b[0m\u001b[0;34m,\u001b[0m \u001b[0morder\u001b[0m\u001b[0;34m=\u001b[0m\u001b[0;34m'C'\u001b[0m\u001b[0;34m,\u001b[0m \u001b[0maccept_sparse\u001b[0m\u001b[0;34m=\u001b[0m\u001b[0;34m'csr'\u001b[0m\u001b[0;34m)\u001b[0m\u001b[0;34m\u001b[0m\u001b[0m\n\u001b[0m\u001b[1;32m    150\u001b[0m         \u001b[0my\u001b[0m \u001b[0;34m=\u001b[0m \u001b[0mself\u001b[0m\u001b[0;34m.\u001b[0m\u001b[0m_validate_targets\u001b[0m\u001b[0;34m(\u001b[0m\u001b[0my\u001b[0m\u001b[0;34m)\u001b[0m\u001b[0;34m\u001b[0m\u001b[0m\n\u001b[1;32m    151\u001b[0m \u001b[0;34m\u001b[0m\u001b[0m\n",
      "\u001b[0;32mC:\\Users\\tgup1\\AppData\\Local\\Programs\\Python\\Python36\\lib\\site-packages\\sklearn\\utils\\validation.py\u001b[0m in \u001b[0;36mcheck_X_y\u001b[0;34m(X, y, accept_sparse, dtype, order, copy, force_all_finite, ensure_2d, allow_nd, multi_output, ensure_min_samples, ensure_min_features, y_numeric, warn_on_dtype, estimator)\u001b[0m\n\u001b[1;32m    576\u001b[0m                         dtype=None)\n\u001b[1;32m    577\u001b[0m     \u001b[0;32melse\u001b[0m\u001b[0;34m:\u001b[0m\u001b[0;34m\u001b[0m\u001b[0m\n\u001b[0;32m--> 578\u001b[0;31m         \u001b[0my\u001b[0m \u001b[0;34m=\u001b[0m \u001b[0mcolumn_or_1d\u001b[0m\u001b[0;34m(\u001b[0m\u001b[0my\u001b[0m\u001b[0;34m,\u001b[0m \u001b[0mwarn\u001b[0m\u001b[0;34m=\u001b[0m\u001b[0;32mTrue\u001b[0m\u001b[0;34m)\u001b[0m\u001b[0;34m\u001b[0m\u001b[0m\n\u001b[0m\u001b[1;32m    579\u001b[0m         \u001b[0m_assert_all_finite\u001b[0m\u001b[0;34m(\u001b[0m\u001b[0my\u001b[0m\u001b[0;34m)\u001b[0m\u001b[0;34m\u001b[0m\u001b[0m\n\u001b[1;32m    580\u001b[0m     \u001b[0;32mif\u001b[0m \u001b[0my_numeric\u001b[0m \u001b[0;32mand\u001b[0m \u001b[0my\u001b[0m\u001b[0;34m.\u001b[0m\u001b[0mdtype\u001b[0m\u001b[0;34m.\u001b[0m\u001b[0mkind\u001b[0m \u001b[0;34m==\u001b[0m \u001b[0;34m'O'\u001b[0m\u001b[0;34m:\u001b[0m\u001b[0;34m\u001b[0m\u001b[0m\n",
      "\u001b[0;32mC:\\Users\\tgup1\\AppData\\Local\\Programs\\Python\\Python36\\lib\\site-packages\\sklearn\\utils\\validation.py\u001b[0m in \u001b[0;36mcolumn_or_1d\u001b[0;34m(y, warn)\u001b[0m\n\u001b[1;32m    612\u001b[0m         \u001b[0;32mreturn\u001b[0m \u001b[0mnp\u001b[0m\u001b[0;34m.\u001b[0m\u001b[0mravel\u001b[0m\u001b[0;34m(\u001b[0m\u001b[0my\u001b[0m\u001b[0;34m)\u001b[0m\u001b[0;34m\u001b[0m\u001b[0m\n\u001b[1;32m    613\u001b[0m \u001b[0;34m\u001b[0m\u001b[0m\n\u001b[0;32m--> 614\u001b[0;31m     \u001b[0;32mraise\u001b[0m \u001b[0mValueError\u001b[0m\u001b[0;34m(\u001b[0m\u001b[0;34m\"bad input shape {0}\"\u001b[0m\u001b[0;34m.\u001b[0m\u001b[0mformat\u001b[0m\u001b[0;34m(\u001b[0m\u001b[0mshape\u001b[0m\u001b[0;34m)\u001b[0m\u001b[0;34m)\u001b[0m\u001b[0;34m\u001b[0m\u001b[0m\n\u001b[0m\u001b[1;32m    615\u001b[0m \u001b[0;34m\u001b[0m\u001b[0m\n\u001b[1;32m    616\u001b[0m \u001b[0;34m\u001b[0m\u001b[0m\n",
      "\u001b[0;31mValueError\u001b[0m: bad input shape (35, 3)"
     ],
     "output_type": "error"
    }
   ],
   "source": [
    "# model = SVC()\n",
    "# model.fit(X,y)\n",
    "# model.score(X,y)\n"
   ]
  },
  {
   "cell_type": "code",
   "execution_count": 87,
   "metadata": {
    "collapsed": true
   },
   "outputs": [
    {
     "data": {
      "text/plain": [
       "array([[1., 0., 0.]])"
      ]
     },
     "execution_count": 90,
     "metadata": {},
     "output_type": "execute_result"
    }
   ],
   "source": [
    "rf = RandomForestClassifier(n_estimators=10)\n",
    "rf.fit(X,y)\n",
    "rf.score(X,y)\n"
   ]
  },
  {
   "cell_type": "code",
   "execution_count": 32,
   "metadata": {
    "collapsed": true
   },
   "outputs": [
    {
     "data": {
      "text/plain": [
       "array([[1., 0., 0.]])"
      ]
     },
     "execution_count": 90,
     "metadata": {},
     "output_type": "execute_result"
    }
   ],
   "source": [
    ""
   ]
  },
  {
   "cell_type": "code",
   "execution_count": 90,
   "metadata": {
    "collapsed": true
   },
   "outputs": [
    {
     "data": {
      "text/plain": [
       "array([[1., 0., 0.]])"
      ]
     },
     "execution_count": 90,
     "metadata": {},
     "output_type": "execute_result"
    }
   ],
   "source": [
    "rf.predict(np.array(['4',\"14257\",\"3\",\"1\"]).reshape(1,-1))\n"
   ]
  },
  {
   "cell_type": "code",
   "execution_count": 3,
   "metadata": {
    "collapsed": true
   },
   "outputs": [
    {
     "data": {
      "text/plain": [
       "Index(['Name', 'Age', 'Photo', 'Nationality', 'Flag', 'Overall', 'Potential',\n       'Club', 'Club Logo', 'Value', 'Wage', 'Special', 'Acceleration',\n       'Aggression', 'Agility', 'Balance', 'Ball Control', 'Composure',\n       'Crossing', 'Curve', 'Dribbling', 'FK Accuracy', 'Finishing',\n       'GK Diving', 'GK Handling', 'GK Kicking', 'GK Positioning',\n       'GK Reflexes', 'Heading Accuracy', 'Interceptions', 'Jumping',\n       'Long Passing', 'Long Shots', 'Marking', 'Penalties', 'Positioning',\n       'Reactions', 'Short Passing', 'Shot Power', 'Sliding Tackle',\n       'Sprint Speed', 'Stamina', 'Standing Tackle', 'Strength', 'Vision',\n       'Volleys'],\n      dtype='object')"
      ]
     },
     "execution_count": 3,
     "metadata": {},
     "output_type": "execute_result"
    }
   ],
   "source": [
    "all_players.columns"
   ]
  },
  {
   "cell_type": "code",
   "execution_count": 4,
   "metadata": {},
   "outputs": [
    {
     "data": {
      "text/plain": [
       "(18000, 46)"
      ]
     },
     "execution_count": 4,
     "metadata": {},
     "output_type": "execute_result"
    }
   ],
   "source": [
    "all_players.shape"
   ]
  },
  {
   "cell_type": "code",
   "execution_count": 39,
   "metadata": {
    "collapsed": true
   },
   "outputs": [
    {
     "data": {
      "text/plain": [
       "Index(['Albania', 'Algeria', 'Argentina', 'Australia', 'Austria', 'Belgium',\n       'Bolivia', 'Bosnia Herzegovina', 'Brazil', 'Bulgaria', 'Cameroon',\n       'Canada', 'Cape Verde', 'Chile', 'China PR', 'Colombia', 'Congo',\n       'Costa Rica', 'Croatia', 'Czech Republic', 'DR Congo', 'Denmark',\n       'Ecuador', 'Egypt', 'England', 'Finland', 'France', 'Georgia',\n       'Germany', 'Ghana', 'Greece', 'Guinea', 'Hungary', 'Iceland', 'India',\n       'Italy', 'Ivory Coast', 'Jamaica', 'Japan', 'Korea Republic', 'Kosovo',\n       'Mali', 'Mexico', 'Montenegro', 'Morocco', 'Netherlands', 'New Zealand',\n       'Nigeria', 'Northern Ireland', 'Norway', 'Paraguay', 'Peru', 'Poland',\n       'Portugal', 'Republic of Ireland', 'Romania', 'Russia', 'Saudi Arabia',\n       'Scotland', 'Senegal', 'Serbia', 'Slovakia', 'Slovenia', 'South Africa',\n       'Spain', 'Sweden', 'Switzerland', 'Tunisia', 'Turkey', 'Ukraine',\n       'United States', 'Uruguay', 'Venezuela', 'Wales'],\n      dtype='object', name='Nationality')"
      ]
     },
     "execution_count": 39,
     "metadata": {},
     "output_type": "execute_result"
    }
   ],
   "source": [
    "df=all_players.set_index(\"Nationality\")\n",
    "temp=df.sort_index().groupby(\"Nationality\")\n",
    "x=temp.count()\n",
    "x = x[x[\"Name\"]>20]\n",
    "# countries with more than 20 players \n",
    "x.index"
   ]
  },
  {
   "cell_type": "code",
   "execution_count": 30,
   "metadata": {},
   "outputs": [],
   "source": [
    ""
   ]
  },
  {
   "cell_type": "code",
   "execution_count": 49,
   "metadata": {},
   "outputs": [
    {
     "data": {
      "text/plain": [
       "(18000, 46)"
      ]
     },
     "execution_count": 49,
     "metadata": {},
     "output_type": "execute_result"
    }
   ],
   "source": [
    "all_players.shape"
   ]
  },
  {
   "cell_type": "code",
   "execution_count": 40,
   "metadata": {},
   "outputs": [
    {
     "data": {
      "text/plain": [
       "Index(['Name', 'Age', 'Photo', 'Nationality', 'Flag', 'Overall', 'Potential',\n       'Club', 'Club Logo', 'Value', 'Wage', 'Special', 'Acceleration',\n       'Aggression', 'Agility', 'Balance', 'Ball Control', 'Composure',\n       'Crossing', 'Curve', 'Dribbling', 'FK Accuracy', 'Finishing',\n       'GK Diving', 'GK Handling', 'GK Kicking', 'GK Positioning',\n       'GK Reflexes', 'Heading Accuracy', 'Interceptions', 'Jumping',\n       'Long Passing', 'Long Shots', 'Marking', 'Penalties', 'Positioning',\n       'Reactions', 'Short Passing', 'Shot Power', 'Sliding Tackle',\n       'Sprint Speed', 'Stamina', 'Standing Tackle', 'Strength', 'Vision',\n       'Volleys'],\n      dtype='object')"
      ]
     },
     "execution_count": 40,
     "metadata": {},
     "output_type": "execute_result"
    }
   ],
   "source": [
    "all_players.columns"
   ]
  },
  {
   "cell_type": "code",
   "execution_count": 93,
   "metadata": {},
   "outputs": [],
   "source": [
    "# these are the countries with more than 20 players in their roster\n",
    "countries = ['Albania', 'Algeria', 'Argentina', 'Australia', 'Austria', 'Belgium',\n",
    "       'Bolivia', 'Bosnia Herzegovina', 'Brazil', 'Bulgaria', 'Cameroon',\n",
    "       'Canada', 'Cape Verde', 'Chile', 'China PR', 'Colombia', 'Congo',\n",
    "       'Costa Rica', 'Croatia', 'Czech Republic', 'DR Congo', 'Denmark',\n",
    "       'Ecuador', 'Egypt', 'England', 'Finland', 'France', 'Georgia',\n",
    "       'Germany', 'Ghana', 'Greece', 'Guinea', 'Hungary', 'Iceland', 'India',\n",
    "       'Italy', 'Ivory Coast', 'Jamaica', 'Japan', 'Korea Republic', 'Kosovo',\n",
    "       'Mali', 'Mexico', 'Montenegro', 'Morocco', 'Netherlands', 'New Zealand',\n",
    "       'Nigeria', 'Northern Ireland', 'Norway', 'Paraguay', 'Peru', 'Poland',\n",
    "       'Portugal', 'Republic of Ireland', 'Romania', 'Russia', 'Saudi Arabia',\n",
    "       'Scotland', 'Senegal', 'Serbia', 'Slovakia', 'Slovenia', 'South Africa',\n",
    "       'Spain', 'Sweden', 'Switzerland', 'Tunisia', 'Turkey', 'Ukraine',\n",
    "       'United States', 'Uruguay', 'Venezuela', 'Wales']\n",
    "all_players=all_players[all_players.apply(lambda x: x[\"Nationality\"] in countries,axis=1)]"
   ]
  },
  {
   "cell_type": "code",
   "execution_count": 94,
   "metadata": {
    "collapsed": true
   },
   "outputs": [],
   "source": [
    "\n",
    "def name_convertor(names):\n",
    "    new_names = []\n",
    "    for x in names:\n",
    "        name=x.split(\" \")\n",
    "        if len(name)> 1:\n",
    "            first_name = name[0][0]+\".\"\n",
    "            name[0]=first_name\n",
    "        new_names.append(\" \".join(name))\n",
    "    return new_names\n"
   ]
  },
  {
   "cell_type": "heading",
   "metadata": {
    "collapsed": true
   },
   "level": 1,
   "source": [
    "Playeer Roster\n"
   ]
  },
  {
   "cell_type": "code",
   "execution_count": 115,
   "metadata": {
    "collapsed": true
   },
   "outputs": [
    {
     "name": "stderr",
     "output_type": "stream",
     "text": [
      "C:\\Users\\tgup1\\AppData\\Local\\Programs\\Python\\Python36\\lib\\site-packages\\ipykernel_launcher.py:6: SettingWithCopyWarning: \nA value is trying to be set on a copy of a slice from a DataFrame.\nTry using .loc[row_indexer,col_indexer] = value instead\n\nSee the caveats in the documentation: http://pandas.pydata.org/pandas-docs/stable/indexing.html#indexing-view-versus-copy\n  \nC:\\Users\\tgup1\\AppData\\Local\\Programs\\Python\\Python36\\lib\\site-packages\\ipykernel_launcher.py:7: SettingWithCopyWarning: \nA value is trying to be set on a copy of a slice from a DataFrame.\nTry using .loc[row_indexer,col_indexer] = value instead\n\nSee the caveats in the documentation: http://pandas.pydata.org/pandas-docs/stable/indexing.html#indexing-view-versus-copy\n  import sys\n"
     ]
    }
   ],
   "source": [
    "# take user input \n",
    "team_name = \"Croatia\"\n",
    "whole_team = all_players[all_players[\"Nationality\"]== team_name].drop_duplicates()\n",
    "whole_team = whole_team.dropna()\n",
    "players = squad[squad[\"Team\"]== team_name]\n",
    "players[\"Player\"]=players[\"Player\"].apply(lambda x:re.sub(\"\\(\\w+\\)\",\"\",x).strip())\n",
    "players[\"Name\"] = name_convertor(players[\"Player\"])\n",
    "final_squad = pd.merge(whole_team,players,on=[\"Name\"],how='inner')\n"
   ]
  },
  {
   "cell_type": "code",
   "execution_count": 120,
   "metadata": {
    "collapsed": true
   },
   "outputs": [
    {
     "data": {
      "text/plain": [
       "Index(['Name', 'Age_x', 'Photo', 'Nationality', 'Flag', 'Overall', 'Potential',\n       'Club_x', 'Club Logo', 'Value', 'Wage', 'Special', 'Acceleration',\n       'Aggression', 'Agility', 'Balance', 'Ball Control', 'Composure',\n       'Crossing', 'Curve', 'Dribbling', 'FK Accuracy', 'Finishing',\n       'GK Diving', 'GK Handling', 'GK Kicking', 'GK Positioning',\n       'GK Reflexes', 'Heading Accuracy', 'Interceptions', 'Jumping',\n       'Long Passing', 'Long Shots', 'Marking', 'Penalties', 'Positioning',\n       'Reactions', 'Short Passing', 'Shot Power', 'Sliding Tackle',\n       'Sprint Speed', 'Stamina', 'Standing Tackle', 'Strength', 'Vision',\n       'Volleys', 'Team', 'Group', 'Squad Number', 'Position', 'Player',\n       'Date Of Birth', 'Age_y', 'Caps', 'Goals', 'Club_y', 'Player Count'],\n      dtype='object')"
      ]
     },
     "execution_count": 120,
     "metadata": {},
     "output_type": "execute_result"
    }
   ],
   "source": [
    "# final_squad[[\"Player\",\"Club_y\",\"Position\"]]\n",
    "final_squad.columns"
   ]
  },
  {
   "cell_type": "code",
   "execution_count": 119,
   "metadata": {
    "collapsed": false
   },
   "outputs": [
    {
     "data": {
      "text/html": [
       "<div>\n",
       "<style scoped>\n",
       "    .dataframe tbody tr th:only-of-type {\n",
       "        vertical-align: middle;\n",
       "    }\n",
       "\n",
       "    .dataframe tbody tr th {\n",
       "        vertical-align: top;\n",
       "    }\n",
       "\n",
       "    .dataframe thead th {\n",
       "        text-align: right;\n",
       "    }\n",
       "</style>\n",
       "<table border=\"1\" class=\"dataframe\">\n",
       "  <thead>\n",
       "    <tr style=\"text-align: right;\">\n",
       "      <th></th>\n",
       "      <th>Name</th>\n",
       "      <th>Age</th>\n",
       "      <th>Photo</th>\n",
       "      <th>Nationality</th>\n",
       "    </tr>\n",
       "  </thead>\n",
       "  <tbody>\n",
       "    <tr>\n",
       "      <th>973</th>\n",
       "      <td>B. Pavard</td>\n",
       "      <td>21</td>\n",
       "      <td>https://cdn.sofifa.org/sm/18/players/226851.png</td>\n",
       "      <td>France</td>\n",
       "    </tr>\n",
       "  </tbody>\n",
       "</table>\n",
       "</div>"
      ],
      "text/plain": [
       "<div>\n",
       "<style scoped>\n",
       "    .dataframe tbody tr th:only-of-type {\n",
       "        vertical-align: middle;\n",
       "    }\n",
       "\n",
       "    .dataframe tbody tr th {\n",
       "        vertical-align: top;\n",
       "    }\n",
       "\n",
       "    .dataframe thead th {\n",
       "        text-align: right;\n",
       "    }\n",
       "</style>\n",
       "<table border=\"1\" class=\"dataframe\">\n",
       "  <thead>\n",
       "    <tr style=\"text-align: right;\">\n",
       "      <th></th>\n",
       "      <th>Name</th>\n",
       "      <th>Age</th>\n",
       "      <th>Photo</th>\n",
       "      <th>Nationality</th>\n",
       "    </tr>\n",
       "  </thead>\n",
       "  <tbody>\n",
       "    <tr>\n",
       "      <th>973</th>\n",
       "      <td>B. Pavard</td>\n",
       "      <td>21</td>\n",
       "      <td>https://cdn.sofifa.org/sm/18/players/226851.png</td>\n",
       "      <td>France</td>\n",
       "    </tr>\n",
       "  </tbody>\n",
       "</table>\n",
       "</div>"
      ]
     },
     "execution_count": 119,
     "metadata": {},
     "output_type": "execute_result"
    }
   ],
   "source": [
    "all_players[all_players[\"Name\"]==\"B. Pavard\"].iloc[:,:4]"
   ]
  },
  {
   "cell_type": "code",
   "execution_count": 177,
   "metadata": {
    "collapsed": false
   },
   "outputs": [
    {
     "name": "stdout",
     "output_type": "stream",
     "text": [
      "368              Alisson\n369         Thiago Silva\n370              Miranda\n371        Pedro Geromel\n372             Casemiro\n373          Filipe Luís\n374        Douglas Costa\n375       Renato Augusto\n376        Gabriel Jesus\n377               Neymar\n378    Philippe Coutinho\n379              Marcelo\n380           Marquinhos\n381               Danilo\n382             Paulinho\n383               Cássio\n384          Fernandinho\n385                 Fred\n386              Willian\n387      Roberto Firmino\n388               Taison\n389               Fagner\n390              Ederson\nName: Player, dtype: object\n['Alisson', 'T. Silva', 'Miranda', 'P. Geromel', 'Casemiro', 'F. Luís', 'D. Costa', 'R. Augusto', 'G. Jesus', 'Neymar', 'P. Coutinho', 'Marcelo', 'Marquinhos', 'Danilo', 'Paulinho', 'Cássio', 'Fernandinho', 'Fred', 'Willian', 'R. Firmino', 'Taison', 'Fagner', 'Ederson']\n"
     ]
    },
    {
     "name": "stderr",
     "output_type": "stream",
     "text": [
      "C:\\Users\\tgup1\\AppData\\Local\\Programs\\Python\\Python36\\lib\\site-packages\\ipykernel_launcher.py:5: SettingWithCopyWarning: \nA value is trying to be set on a copy of a slice from a DataFrame.\nTry using .loc[row_indexer,col_indexer] = value instead\n\nSee the caveats in the documentation: http://pandas.pydata.org/pandas-docs/stable/indexing.html#indexing-view-versus-copy\n  \"\"\"\nC:\\Users\\tgup1\\AppData\\Local\\Programs\\Python\\Python36\\lib\\site-packages\\ipykernel_launcher.py:6: SettingWithCopyWarning: \nA value is trying to be set on a copy of a slice from a DataFrame.\nTry using .loc[row_indexer,col_indexer] = value instead\n\nSee the caveats in the documentation: http://pandas.pydata.org/pandas-docs/stable/indexing.html#indexing-view-versus-copy\n  \n"
     ]
    }
   ],
   "source": [
    ""
   ]
  },
  {
   "cell_type": "code",
   "execution_count": 176,
   "metadata": {
    "collapsed": false
   },
   "outputs": [
    {
     "name": "stdout",
     "output_type": "stream",
     "text": [
      "368              Alisson\n369         Thiago Silva\n370              Miranda\n371        Pedro Geromel\n372             Casemiro\n373          Filipe Luís\n374        Douglas Costa\n375       Renato Augusto\n376        Gabriel Jesus\n377               Neymar\n378    Philippe Coutinho\n379              Marcelo\n380           Marquinhos\n381               Danilo\n382             Paulinho\n383               Cássio\n384          Fernandinho\n385                 Fred\n386              Willian\n387      Roberto Firmino\n388               Taison\n389               Fagner\n390              Ederson\nName: Player, dtype: object\n['Alisson', 'T. Silva', 'Miranda', 'P. Geromel', 'Casemiro', 'F. Luís', 'D. Costa', 'R. Augusto', 'G. Jesus', 'Neymar', 'P. Coutinho', 'Marcelo', 'Marquinhos', 'Danilo', 'Paulinho', 'Cássio', 'Fernandinho', 'Fred', 'Willian', 'R. Firmino', 'Taison', 'Fagner', 'Ederson']\n"
     ]
    },
    {
     "name": "stderr",
     "output_type": "stream",
     "text": [
      "C:\\Users\\tgup1\\AppData\\Local\\Programs\\Python\\Python36\\lib\\site-packages\\ipykernel_launcher.py:5: SettingWithCopyWarning: \nA value is trying to be set on a copy of a slice from a DataFrame.\nTry using .loc[row_indexer,col_indexer] = value instead\n\nSee the caveats in the documentation: http://pandas.pydata.org/pandas-docs/stable/indexing.html#indexing-view-versus-copy\n  \"\"\"\nC:\\Users\\tgup1\\AppData\\Local\\Programs\\Python\\Python36\\lib\\site-packages\\ipykernel_launcher.py:6: SettingWithCopyWarning: \nA value is trying to be set on a copy of a slice from a DataFrame.\nTry using .loc[row_indexer,col_indexer] = value instead\n\nSee the caveats in the documentation: http://pandas.pydata.org/pandas-docs/stable/indexing.html#indexing-view-versus-copy\n  \n"
     ]
    }
   ],
   "source": [
    "final_squad[]"
   ]
  },
  {
   "cell_type": "code",
   "execution_count": 214,
   "metadata": {
    "collapsed": false
   },
   "outputs": [
    {
     "data": {
      "text/html": [
       "<div>\n",
       "<style scoped>\n",
       "    .dataframe tbody tr th:only-of-type {\n",
       "        vertical-align: middle;\n",
       "    }\n",
       "\n",
       "    .dataframe tbody tr th {\n",
       "        vertical-align: top;\n",
       "    }\n",
       "\n",
       "    .dataframe thead th {\n",
       "        text-align: right;\n",
       "    }\n",
       "</style>\n",
       "<table border=\"1\" class=\"dataframe\">\n",
       "  <thead>\n",
       "    <tr style=\"text-align: right;\">\n",
       "      <th></th>\n",
       "      <th>Player</th>\n",
       "      <th>Club_y</th>\n",
       "      <th>Position</th>\n",
       "    </tr>\n",
       "  </thead>\n",
       "  <tbody>\n",
       "    <tr>\n",
       "      <th>0</th>\n",
       "      <td>Harry Kane</td>\n",
       "      <td>Tottenham Hotspur</td>\n",
       "      <td>FW</td>\n",
       "    </tr>\n",
       "    <tr>\n",
       "      <th>1</th>\n",
       "      <td>Harry Kane</td>\n",
       "      <td>Tottenham Hotspur</td>\n",
       "      <td>FW</td>\n",
       "    </tr>\n",
       "    <tr>\n",
       "      <th>2</th>\n",
       "      <td>Raheem Sterling</td>\n",
       "      <td>Manchester City</td>\n",
       "      <td>FW</td>\n",
       "    </tr>\n",
       "    <tr>\n",
       "      <th>3</th>\n",
       "      <td>Dele Alli</td>\n",
       "      <td>Tottenham Hotspur</td>\n",
       "      <td>MF</td>\n",
       "    </tr>\n",
       "    <tr>\n",
       "      <th>4</th>\n",
       "      <td>Kyle Walker</td>\n",
       "      <td>Manchester City</td>\n",
       "      <td>DF</td>\n",
       "    </tr>\n",
       "    <tr>\n",
       "      <th>5</th>\n",
       "      <td>Jamie Vardy</td>\n",
       "      <td>Leicester City</td>\n",
       "      <td>FW</td>\n",
       "    </tr>\n",
       "    <tr>\n",
       "      <th>6</th>\n",
       "      <td>Gary Cahill</td>\n",
       "      <td>Chelsea</td>\n",
       "      <td>DF</td>\n",
       "    </tr>\n",
       "    <tr>\n",
       "      <th>7</th>\n",
       "      <td>Marcus Rashford</td>\n",
       "      <td>Manchester United</td>\n",
       "      <td>FW</td>\n",
       "    </tr>\n",
       "    <tr>\n",
       "      <th>8</th>\n",
       "      <td>Jesse Lingard</td>\n",
       "      <td>Manchester United</td>\n",
       "      <td>MF</td>\n",
       "    </tr>\n",
       "    <tr>\n",
       "      <th>9</th>\n",
       "      <td>Jack Butland</td>\n",
       "      <td>Stoke City</td>\n",
       "      <td>GK</td>\n",
       "    </tr>\n",
       "    <tr>\n",
       "      <th>10</th>\n",
       "      <td>Eric Dier</td>\n",
       "      <td>Tottenham Hotspur</td>\n",
       "      <td>MF</td>\n",
       "    </tr>\n",
       "    <tr>\n",
       "      <th>11</th>\n",
       "      <td>Jordan Henderson</td>\n",
       "      <td>Liverpool</td>\n",
       "      <td>MF</td>\n",
       "    </tr>\n",
       "    <tr>\n",
       "      <th>12</th>\n",
       "      <td>Danny Rose</td>\n",
       "      <td>Tottenham Hotspur</td>\n",
       "      <td>DF</td>\n",
       "    </tr>\n",
       "    <tr>\n",
       "      <th>13</th>\n",
       "      <td>Danny Rose</td>\n",
       "      <td>Tottenham Hotspur</td>\n",
       "      <td>DF</td>\n",
       "    </tr>\n",
       "    <tr>\n",
       "      <th>14</th>\n",
       "      <td>Danny Rose</td>\n",
       "      <td>Tottenham Hotspur</td>\n",
       "      <td>DF</td>\n",
       "    </tr>\n",
       "    <tr>\n",
       "      <th>15</th>\n",
       "      <td>Jordan Pickford</td>\n",
       "      <td>Everton</td>\n",
       "      <td>GK</td>\n",
       "    </tr>\n",
       "    <tr>\n",
       "      <th>16</th>\n",
       "      <td>John Stones</td>\n",
       "      <td>Manchester City</td>\n",
       "      <td>DF</td>\n",
       "    </tr>\n",
       "    <tr>\n",
       "      <th>17</th>\n",
       "      <td>Phil Jones</td>\n",
       "      <td>Manchester United</td>\n",
       "      <td>DF</td>\n",
       "    </tr>\n",
       "    <tr>\n",
       "      <th>18</th>\n",
       "      <td>Phil Jones</td>\n",
       "      <td>Manchester United</td>\n",
       "      <td>DF</td>\n",
       "    </tr>\n",
       "    <tr>\n",
       "      <th>19</th>\n",
       "      <td>Kieran Trippier</td>\n",
       "      <td>Tottenham Hotspur</td>\n",
       "      <td>DF</td>\n",
       "    </tr>\n",
       "    <tr>\n",
       "      <th>20</th>\n",
       "      <td>Harry Maguire</td>\n",
       "      <td>Leicester City</td>\n",
       "      <td>DF</td>\n",
       "    </tr>\n",
       "    <tr>\n",
       "      <th>21</th>\n",
       "      <td>Danny Welbeck</td>\n",
       "      <td>Arsenal</td>\n",
       "      <td>FW</td>\n",
       "    </tr>\n",
       "    <tr>\n",
       "      <th>22</th>\n",
       "      <td>Fabian Delph</td>\n",
       "      <td>Manchester City</td>\n",
       "      <td>DF</td>\n",
       "    </tr>\n",
       "    <tr>\n",
       "      <th>23</th>\n",
       "      <td>Ashley Young</td>\n",
       "      <td>Manchester United</td>\n",
       "      <td>DF</td>\n",
       "    </tr>\n",
       "    <tr>\n",
       "      <th>24</th>\n",
       "      <td>Nick Pope</td>\n",
       "      <td>Burnley</td>\n",
       "      <td>GK</td>\n",
       "    </tr>\n",
       "    <tr>\n",
       "      <th>25</th>\n",
       "      <td>Trent Alexander-Arnold</td>\n",
       "      <td>Liverpool</td>\n",
       "      <td>DF</td>\n",
       "    </tr>\n",
       "    <tr>\n",
       "      <th>26</th>\n",
       "      <td>Ruben Loftus-Cheek</td>\n",
       "      <td>Crystal Palace</td>\n",
       "      <td>MF</td>\n",
       "    </tr>\n",
       "  </tbody>\n",
       "</table>\n",
       "</div>"
      ],
      "text/plain": [
       "<div>\n",
       "<style scoped>\n",
       "    .dataframe tbody tr th:only-of-type {\n",
       "        vertical-align: middle;\n",
       "    }\n",
       "\n",
       "    .dataframe tbody tr th {\n",
       "        vertical-align: top;\n",
       "    }\n",
       "\n",
       "    .dataframe thead th {\n",
       "        text-align: right;\n",
       "    }\n",
       "</style>\n",
       "<table border=\"1\" class=\"dataframe\">\n",
       "  <thead>\n",
       "    <tr style=\"text-align: right;\">\n",
       "      <th></th>\n",
       "      <th>Player</th>\n",
       "      <th>Club_y</th>\n",
       "      <th>Position</th>\n",
       "    </tr>\n",
       "  </thead>\n",
       "  <tbody>\n",
       "    <tr>\n",
       "      <th>0</th>\n",
       "      <td>Harry Kane</td>\n",
       "      <td>Tottenham Hotspur</td>\n",
       "      <td>FW</td>\n",
       "    </tr>\n",
       "    <tr>\n",
       "      <th>1</th>\n",
       "      <td>Harry Kane</td>\n",
       "      <td>Tottenham Hotspur</td>\n",
       "      <td>FW</td>\n",
       "    </tr>\n",
       "    <tr>\n",
       "      <th>2</th>\n",
       "      <td>Raheem Sterling</td>\n",
       "      <td>Manchester City</td>\n",
       "      <td>FW</td>\n",
       "    </tr>\n",
       "    <tr>\n",
       "      <th>3</th>\n",
       "      <td>Dele Alli</td>\n",
       "      <td>Tottenham Hotspur</td>\n",
       "      <td>MF</td>\n",
       "    </tr>\n",
       "    <tr>\n",
       "      <th>4</th>\n",
       "      <td>Kyle Walker</td>\n",
       "      <td>Manchester City</td>\n",
       "      <td>DF</td>\n",
       "    </tr>\n",
       "    <tr>\n",
       "      <th>5</th>\n",
       "      <td>Jamie Vardy</td>\n",
       "      <td>Leicester City</td>\n",
       "      <td>FW</td>\n",
       "    </tr>\n",
       "    <tr>\n",
       "      <th>6</th>\n",
       "      <td>Gary Cahill</td>\n",
       "      <td>Chelsea</td>\n",
       "      <td>DF</td>\n",
       "    </tr>\n",
       "    <tr>\n",
       "      <th>7</th>\n",
       "      <td>Marcus Rashford</td>\n",
       "      <td>Manchester United</td>\n",
       "      <td>FW</td>\n",
       "    </tr>\n",
       "    <tr>\n",
       "      <th>8</th>\n",
       "      <td>Jesse Lingard</td>\n",
       "      <td>Manchester United</td>\n",
       "      <td>MF</td>\n",
       "    </tr>\n",
       "    <tr>\n",
       "      <th>9</th>\n",
       "      <td>Jack Butland</td>\n",
       "      <td>Stoke City</td>\n",
       "      <td>GK</td>\n",
       "    </tr>\n",
       "    <tr>\n",
       "      <th>10</th>\n",
       "      <td>Eric Dier</td>\n",
       "      <td>Tottenham Hotspur</td>\n",
       "      <td>MF</td>\n",
       "    </tr>\n",
       "    <tr>\n",
       "      <th>11</th>\n",
       "      <td>Jordan Henderson</td>\n",
       "      <td>Liverpool</td>\n",
       "      <td>MF</td>\n",
       "    </tr>\n",
       "    <tr>\n",
       "      <th>12</th>\n",
       "      <td>Danny Rose</td>\n",
       "      <td>Tottenham Hotspur</td>\n",
       "      <td>DF</td>\n",
       "    </tr>\n",
       "    <tr>\n",
       "      <th>13</th>\n",
       "      <td>Danny Rose</td>\n",
       "      <td>Tottenham Hotspur</td>\n",
       "      <td>DF</td>\n",
       "    </tr>\n",
       "    <tr>\n",
       "      <th>14</th>\n",
       "      <td>Danny Rose</td>\n",
       "      <td>Tottenham Hotspur</td>\n",
       "      <td>DF</td>\n",
       "    </tr>\n",
       "    <tr>\n",
       "      <th>15</th>\n",
       "      <td>Jordan Pickford</td>\n",
       "      <td>Everton</td>\n",
       "      <td>GK</td>\n",
       "    </tr>\n",
       "    <tr>\n",
       "      <th>16</th>\n",
       "      <td>John Stones</td>\n",
       "      <td>Manchester City</td>\n",
       "      <td>DF</td>\n",
       "    </tr>\n",
       "    <tr>\n",
       "      <th>17</th>\n",
       "      <td>Phil Jones</td>\n",
       "      <td>Manchester United</td>\n",
       "      <td>DF</td>\n",
       "    </tr>\n",
       "    <tr>\n",
       "      <th>18</th>\n",
       "      <td>Phil Jones</td>\n",
       "      <td>Manchester United</td>\n",
       "      <td>DF</td>\n",
       "    </tr>\n",
       "    <tr>\n",
       "      <th>19</th>\n",
       "      <td>Kieran Trippier</td>\n",
       "      <td>Tottenham Hotspur</td>\n",
       "      <td>DF</td>\n",
       "    </tr>\n",
       "    <tr>\n",
       "      <th>20</th>\n",
       "      <td>Harry Maguire</td>\n",
       "      <td>Leicester City</td>\n",
       "      <td>DF</td>\n",
       "    </tr>\n",
       "    <tr>\n",
       "      <th>21</th>\n",
       "      <td>Danny Welbeck</td>\n",
       "      <td>Arsenal</td>\n",
       "      <td>FW</td>\n",
       "    </tr>\n",
       "    <tr>\n",
       "      <th>22</th>\n",
       "      <td>Fabian Delph</td>\n",
       "      <td>Manchester City</td>\n",
       "      <td>DF</td>\n",
       "    </tr>\n",
       "    <tr>\n",
       "      <th>23</th>\n",
       "      <td>Ashley Young</td>\n",
       "      <td>Manchester United</td>\n",
       "      <td>DF</td>\n",
       "    </tr>\n",
       "    <tr>\n",
       "      <th>24</th>\n",
       "      <td>Nick Pope</td>\n",
       "      <td>Burnley</td>\n",
       "      <td>GK</td>\n",
       "    </tr>\n",
       "    <tr>\n",
       "      <th>25</th>\n",
       "      <td>Trent Alexander-Arnold</td>\n",
       "      <td>Liverpool</td>\n",
       "      <td>DF</td>\n",
       "    </tr>\n",
       "    <tr>\n",
       "      <th>26</th>\n",
       "      <td>Ruben Loftus-Cheek</td>\n",
       "      <td>Crystal Palace</td>\n",
       "      <td>MF</td>\n",
       "    </tr>\n",
       "  </tbody>\n",
       "</table>\n",
       "</div>"
      ]
     },
     "execution_count": 214,
     "metadata": {},
     "output_type": "execute_result"
    }
   ],
   "source": [
    ""
   ]
  },
  {
   "cell_type": "code",
   "execution_count": 165,
   "metadata": {},
   "outputs": [
    {
     "data": {
      "text/plain": [
       "Index(['Name', 'Age_x', 'Photo', 'Nationality', 'Flag', 'Overall', 'Potential',\n       'Club_x', 'Club Logo', 'Value', 'Wage', 'Special', 'Acceleration',\n       'Aggression', 'Agility', 'Balance', 'Ball Control', 'Composure',\n       'Crossing', 'Curve', 'Dribbling', 'FK Accuracy', 'Finishing',\n       'GK Diving', 'GK Handling', 'GK Kicking', 'GK Positioning',\n       'GK Reflexes', 'Heading Accuracy', 'Interceptions', 'Jumping',\n       'Long Passing', 'Long Shots', 'Marking', 'Penalties', 'Positioning',\n       'Reactions', 'Short Passing', 'Shot Power', 'Sliding Tackle',\n       'Sprint Speed', 'Stamina', 'Standing Tackle', 'Strength', 'Vision',\n       'Volleys', 'Team', 'Group', 'Squad Number', 'Position', 'Player',\n       'Date Of Birth', 'Age_y', 'Caps', 'Goals', 'Club_y', 'Player Count'],\n      dtype='object')"
      ]
     },
     "execution_count": 165,
     "metadata": {},
     "output_type": "execute_result"
    }
   ],
   "source": [
    "final_squad.columns"
   ]
  },
  {
   "cell_type": "code",
   "execution_count": 69,
   "metadata": {
    "collapsed": true
   },
   "outputs": [
    {
     "data": {
      "text/plain": [
       "Uruguay         23\nTunisia         23\nBrazil          23\nJapan           23\nPoland          23\nCroatia         23\nRussia          23\nAustralia       23\nMexico          23\nSwitzerland     23\nPeru            23\nEngland         23\nArgentina       23\nSpain           23\nDenmark         23\nSaudi Arabia    23\nIran            23\nSweden          23\nSouth Korea     23\nMorocco         23\nIceland         23\nFrance          23\nCosta Rica      23\nNigeria         23\nGermany         23\nEgypt           23\nColombia        23\nPortugal        23\nBelgium         23\nSerbia          23\nSenegal         23\nPanama          23\nName: Team, dtype: int64"
      ]
     },
     "execution_count": 69,
     "metadata": {},
     "output_type": "execute_result"
    }
   ],
   "source": [
    "squad[\"Team\"].value_counts()"
   ]
  },
  {
   "cell_type": "code",
   "execution_count": 187,
   "metadata": {},
   "outputs": [],
   "source": [
    "whole_team = all_players[all_players[\"Nationality\"]== team_name]"
   ]
  },
  {
   "cell_type": "code",
   "execution_count": 200,
   "metadata": {},
   "outputs": [
    {
     "data": {
      "text/plain": [
       "152"
      ]
     },
     "execution_count": 200,
     "metadata": {},
     "output_type": "execute_result"
    }
   ],
   "source": [
    "len(whole_team)"
   ]
  },
  {
   "cell_type": "code",
   "execution_count": 205,
   "metadata": {},
   "outputs": [
    {
     "data": {
      "text/plain": [
       "Index(['Name', 'Age', 'Photo', 'Nationality', 'Flag', 'Overall', 'Potential',\n       'Club', 'Club Logo', 'Value', 'Wage', 'Special', 'Acceleration',\n       'Aggression', 'Agility', 'Balance', 'Ball Control', 'Composure',\n       'Crossing', 'Curve', 'Dribbling', 'FK Accuracy', 'Finishing',\n       'GK Diving', 'GK Handling', 'GK Kicking', 'GK Positioning',\n       'GK Reflexes', 'Heading Accuracy', 'Interceptions', 'Jumping',\n       'Long Passing', 'Long Shots', 'Marking', 'Penalties', 'Positioning',\n       'Reactions', 'Short Passing', 'Shot Power', 'Sliding Tackle',\n       'Sprint Speed', 'Stamina', 'Standing Tackle', 'Strength', 'Vision',\n       'Volleys'],\n      dtype='object')"
      ]
     },
     "execution_count": 205,
     "metadata": {},
     "output_type": "execute_result"
    }
   ],
   "source": [
    "temp=whole_team.dropna()\n",
    "temp.columns"
   ]
  },
  {
   "cell_type": "code",
   "execution_count": 192,
   "metadata": {},
   "outputs": [
    {
     "data": {
      "text/plain": [
       "23"
      ]
     },
     "execution_count": 192,
     "metadata": {},
     "output_type": "execute_result"
    }
   ],
   "source": [
    "len(final_squad)"
   ]
  },
  {
   "cell_type": "code",
   "execution_count": 202,
   "metadata": {},
   "outputs": [],
   "source": [
    ""
   ]
  },
  {
   "cell_type": "code",
   "execution_count": null,
   "metadata": {},
   "outputs": [],
   "source": []
  }
 ],
 "metadata": {
  "kernelspec": {
   "display_name": "Python 2",
   "language": "python",
   "name": "python2"
  },
  "language_info": {
   "codemirror_mode": {
    "name": "ipython",
    "version": 2
   },
   "file_extension": ".py",
   "mimetype": "text/x-python",
   "name": "python",
   "nbconvert_exporter": "python",
   "pygments_lexer": "ipython2",
   "version": "2.7.6"
  }
 },
 "nbformat": 4,
 "nbformat_minor": 0
}
